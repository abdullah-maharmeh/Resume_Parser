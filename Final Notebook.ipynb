{
 "cells": [
  {
   "cell_type": "markdown",
   "id": "8a5a69a5",
   "metadata": {},
   "source": [
    "### Abdullah Almaharmeh \n"
   ]
  },
  {
   "cell_type": "markdown",
   "id": "0f7f62d5",
   "metadata": {},
   "source": [
    "## Problem Statement\n",
    "\n",
    "Job agency received thaousands of resumes per month, and they don't have the ability to analyze them by employes cuz this may take alot of time and effort.\n",
    "\n",
    "so they ask a data scientest to help them analyzing the resumes and answer few question about the dataset\n"
   ]
  },
  {
   "cell_type": "markdown",
   "id": "33f1fec3",
   "metadata": {},
   "source": [
    "Importing required library"
   ]
  },
  {
   "cell_type": "code",
   "execution_count": 1,
   "id": "717e487b",
   "metadata": {},
   "outputs": [],
   "source": [
    "import numpy as np \n",
    "import pandas as pd \n",
    "import matplotlib.pyplot as plt\n",
    "import seaborn as sns\n",
    "import nltk\n",
    "import re\n",
    "from nltk.corpus import stopwords\n",
    "from textblob import TextBlob\n",
    "%matplotlib inline"
   ]
  },
  {
   "cell_type": "code",
   "execution_count": 2,
   "id": "660a99cb",
   "metadata": {},
   "outputs": [],
   "source": [
    "# read the csv file\n",
    "df = pd.read_csv(\"resume updated.csv\")"
   ]
  },
  {
   "cell_type": "markdown",
   "id": "4a16f2fe",
   "metadata": {},
   "source": [
    "#### looking into the data "
   ]
  },
  {
   "cell_type": "code",
   "execution_count": 3,
   "id": "ab1fd0c6",
   "metadata": {},
   "outputs": [
    {
     "name": "stdout",
     "output_type": "stream",
     "text": [
      "<class 'pandas.core.frame.DataFrame'>\n",
      "RangeIndex: 2492 entries, 0 to 2491\n",
      "Columns: 164 entries, ID to Unnamed: 163\n",
      "dtypes: object(164)\n",
      "memory usage: 3.1+ MB\n"
     ]
    }
   ],
   "source": [
    "df.info()"
   ]
  },
  {
   "cell_type": "code",
   "execution_count": 4,
   "id": "9583d17d",
   "metadata": {},
   "outputs": [
    {
     "data": {
      "text/plain": [
       "Index(['ID', 'Resume_str', 'Category', 'Unnamed: 3', 'Unnamed: 4',\n",
       "       'Unnamed: 5', 'Unnamed: 6', 'Unnamed: 7', 'Unnamed: 8', 'Unnamed: 9',\n",
       "       ...\n",
       "       'Unnamed: 154', 'Unnamed: 155', 'Unnamed: 156', 'Unnamed: 157',\n",
       "       'Unnamed: 158', 'Unnamed: 159', 'Unnamed: 160', 'Unnamed: 161',\n",
       "       'Unnamed: 162', 'Unnamed: 163'],\n",
       "      dtype='object', length=164)"
      ]
     },
     "execution_count": 4,
     "metadata": {},
     "output_type": "execute_result"
    }
   ],
   "source": [
    "df.columns\n",
    "# we can see that we have alot off columns that we wrongly read \n",
    "# we must drop it now "
   ]
  },
  {
   "cell_type": "code",
   "execution_count": 5,
   "id": "fbfceb49",
   "metadata": {},
   "outputs": [],
   "source": [
    "df= df[['ID','Resume_str','Category']]"
   ]
  },
  {
   "cell_type": "code",
   "execution_count": 6,
   "id": "08f2575b",
   "metadata": {
    "scrolled": true
   },
   "outputs": [
    {
     "name": "stdout",
     "output_type": "stream",
     "text": [
      "<class 'pandas.core.frame.DataFrame'>\n",
      "RangeIndex: 2492 entries, 0 to 2491\n",
      "Data columns (total 3 columns):\n",
      " #   Column      Non-Null Count  Dtype \n",
      "---  ------      --------------  ----- \n",
      " 0   ID          2492 non-null   object\n",
      " 1   Resume_str  2492 non-null   object\n",
      " 2   Category    2465 non-null   object\n",
      "dtypes: object(3)\n",
      "memory usage: 58.5+ KB\n"
     ]
    }
   ],
   "source": [
    "df.info()"
   ]
  },
  {
   "cell_type": "markdown",
   "id": "49c61595",
   "metadata": {},
   "source": [
    "as we see there isn't null values in the data and we have four columns, let's talk about them.\n",
    "\n",
    "\n",
    "#### ID \n",
    "Unique identifier and file name for the respective pdf.\n",
    "\n",
    "#### Resume_str \n",
    "contains the resume text only in string format.\n",
    "#### Resume_html \n",
    "Contains the resume data in html format as present while web scrapping.\n",
    "#### Category \n",
    "Category of the job the resume was used to apply\n",
    "  "
   ]
  },
  {
   "cell_type": "markdown",
   "id": "eedd0917",
   "metadata": {},
   "source": [
    "### let's check the categories in this dataset"
   ]
  },
  {
   "cell_type": "code",
   "execution_count": 7,
   "id": "4fd31dcc",
   "metadata": {
    "scrolled": true
   },
   "outputs": [
    {
     "data": {
      "text/plain": [
       "INFORMATION-TECHNOLOGY                                                                                                                                                                                                                                                                                                                                                                                                                                                                                                                                                                                                                                                                                    119\n",
       "BUSINESS-DEVELOPMENT                                                                                                                                                                                                                                                                                                                                                                                                                                                                                                                                                                                                                                                                                      119\n",
       "AVIATION                                                                                                                                                                                                                                                                                                                                                                                                                                                                                                                                                                                                                                                                                                  117\n",
       "FITNESS                                                                                                                                                                                                                                                                                                                                                                                                                                                                                                                                                                                                                                                                                                   117\n",
       "CHEF                                                                                                                                                                                                                                                                                                                                                                                                                                                                                                                                                                                                                                                                                                      117\n",
       "ACCOUNTANT                                                                                                                                                                                                                                                                                                                                                                                                                                                                                                                                                                                                                                                                                                116\n",
       "ENGINEERING                                                                                                                                                                                                                                                                                                                                                                                                                                                                                                                                                                                                                                                                                               116\n",
       "FINANCE                                                                                                                                                                                                                                                                                                                                                                                                                                                                                                                                                                                                                                                                                                   116\n",
       "SALES                                                                                                                                                                                                                                                                                                                                                                                                                                                                                                                                                                                                                                                                                                     115\n",
       "BANKING                                                                                                                                                                                                                                                                                                                                                                                                                                                                                                                                                                                                                                                                                                   115\n",
       "ADVOCATE                                                                                                                                                                                                                                                                                                                                                                                                                                                                                                                                                                                                                                                                                                  115\n",
       "CONSULTANT                                                                                                                                                                                                                                                                                                                                                                                                                                                                                                                                                                                                                                                                                                115\n",
       "HEALTHCARE                                                                                                                                                                                                                                                                                                                                                                                                                                                                                                                                                                                                                                                                                                113\n",
       "PUBLIC-RELATIONS                                                                                                                                                                                                                                                                                                                                                                                                                                                                                                                                                                                                                                                                                          110\n",
       "HR                                                                                                                                                                                                                                                                                                                                                                                                                                                                                                                                                                                                                                                                                                        109\n",
       "CONSTRUCTION                                                                                                                                                                                                                                                                                                                                                                                                                                                                                                                                                                                                                                                                                              108\n",
       "DESIGNER                                                                                                                                                                                                                                                                                                                                                                                                                                                                                                                                                                                                                                                                                                  106\n",
       "ARTS                                                                                                                                                                                                                                                                                                                                                                                                                                                                                                                                                                                                                                                                                                      103\n",
       "TEACHER                                                                                                                                                                                                                                                                                                                                                                                                                                                                                                                                                                                                                                                                                                   102\n",
       "APPAREL                                                                                                                                                                                                                                                                                                                                                                                                                                                                                                                                                                                                                                                                                                    96\n",
       "DIGITAL-MEDIA                                                                                                                                                                                                                                                                                                                                                                                                                                                                                                                                                                                                                                                                                              95\n",
       "AGRICULTURE                                                                                                                                                                                                                                                                                                                                                                                                                                                                                                                                                                                                                                                                                                63\n",
       "AUTOMOBILE                                                                                                                                                                                                                                                                                                                                                                                                                                                                                                                                                                                                                                                                                                 35\n",
       "BPO                                                                                                                                                                                                                                                                                                                                                                                                                                                                                                                                                                                                                                                                                                        21\n",
       " ethical and independent decision-making ability consistent with medical protocols. <br/> <span class=\"\"\"\"> </span> </span> </span> </span> </span> </span> </div> <div> <span class=\"\"\"\"> <span class=\"\"\"\"> <span class=\"\"\"\"> <span class=\"\"\"\"> <span class=\"\"\"\"> <span class=\"\"\"\"> </span> </span> </span> </span> </span> </span> </div> <div> <span class=\"\"\"\"> <span class=\"\"\"\"> <span class=\"\"\"\"> <span class=\"\"\"\"> <span class=\"\"\"\"> <span class=\"\"\"\"> Disciplined                                                                                                                                                                                                                                   1\n",
       " worked closely with end customer and subcontractors (Solectron                                                                                                                                                                                                                                                                                                                                                                                                                                                                                                                                                                                                                                             1\n",
       " Business Development                                                                                                                                                                                                                                                                                                                                                                                                                                                                                                                                                                                                                                                                                       1\n",
       " open and committed to building customer base by providing positive service experience.       Interests     License:  TX Drivers  Food Handler  TABC       Highlights          Accounting                                                                                                                                                                                                                                                                                                                                                                                                                                                                                                                   1\n",
       " food and tableware                                                                                                                                                                                                                                                                                                                                                                                                                                                                                                                                                                                                                                                                                         1\n",
       " Oracle database                                                                                                                                                                                                                                                                                                                                                                                                                                                                                                                                                                                                                                                                                            1\n",
       " married to Cassie Short my wife of the 3years. But been with her for 7 years total. Having a baby in April of 2019. My wife and have a dog. He is very hyper dog but a very good protector. </p> </div> </div> </div> <div class=\"\"section\"\" id=\"\"SECTION_SKLLfd0bd5a2-6f3a-4b03-ad52-313a0c69862d\"\" style=\"\"padding-top:0px;\"\"> </div> <div class=\"\"section\"\" id=\"\"SECTION_WRKH3d6fbe2d-1ba1-405a-9592-d15e34489958\"\" style=\"\"padding-top:0px;\"\"> </div> <div class=\"\"section\"\" id=\"\"SECTION_EXPR3fd1171e-265f-4bf3-9781-5d5f36a0c989\"\" style=\"\"padding-top:0px;\"\"> </div> <div class=\"\"section\"\" id=\"\"SECTION_SUMMc32bf1ed-a836-4084-8fcb-ecc22e712f1e\"\" style=\"\"padding-top:0px;\"\"> </div> </div>\"      1\n",
       "Name: Category, dtype: int64"
      ]
     },
     "execution_count": 7,
     "metadata": {},
     "output_type": "execute_result"
    }
   ],
   "source": [
    "df.Category.value_counts()"
   ]
  },
  {
   "cell_type": "code",
   "execution_count": 8,
   "id": "43c1000f",
   "metadata": {},
   "outputs": [],
   "source": [
    "# we want to drop this columns where the category isn't looking good\n",
    "# the process we'll follow that any category appears less than 5 we will drop it \n",
    "\n",
    "thresholed = 5\n",
    "cat_counts = df['Category'].value_counts()\n",
    "\n",
    "df = df[df['Category'].isin(cat_counts[cat_counts >= thresholed].index)]"
   ]
  },
  {
   "cell_type": "code",
   "execution_count": 9,
   "id": "f026a91c",
   "metadata": {},
   "outputs": [
    {
     "data": {
      "text/plain": [
       "INFORMATION-TECHNOLOGY    119\n",
       "BUSINESS-DEVELOPMENT      119\n",
       "AVIATION                  117\n",
       "CHEF                      117\n",
       "FITNESS                   117\n",
       "ACCOUNTANT                116\n",
       "ENGINEERING               116\n",
       "FINANCE                   116\n",
       "BANKING                   115\n",
       "ADVOCATE                  115\n",
       "SALES                     115\n",
       "CONSULTANT                115\n",
       "HEALTHCARE                113\n",
       "PUBLIC-RELATIONS          110\n",
       "HR                        109\n",
       "CONSTRUCTION              108\n",
       "DESIGNER                  106\n",
       "ARTS                      103\n",
       "TEACHER                   102\n",
       "APPAREL                    96\n",
       "DIGITAL-MEDIA              95\n",
       "AGRICULTURE                63\n",
       "AUTOMOBILE                 35\n",
       "BPO                        21\n",
       "Name: Category, dtype: int64"
      ]
     },
     "execution_count": 9,
     "metadata": {},
     "output_type": "execute_result"
    }
   ],
   "source": [
    "df.Category.value_counts()"
   ]
  },
  {
   "cell_type": "code",
   "execution_count": 10,
   "id": "8bcd17fe",
   "metadata": {},
   "outputs": [
    {
     "data": {
      "text/plain": [
       "ID            0\n",
       "Resume_str    0\n",
       "Category      0\n",
       "dtype: int64"
      ]
     },
     "execution_count": 10,
     "metadata": {},
     "output_type": "execute_result"
    }
   ],
   "source": [
    "# discover null values and what we will do with them \n",
    "df.isna().sum()"
   ]
  },
  {
   "cell_type": "code",
   "execution_count": 11,
   "id": "3f526299",
   "metadata": {},
   "outputs": [
    {
     "data": {
      "text/plain": [
       "0"
      ]
     },
     "execution_count": 11,
     "metadata": {},
     "output_type": "execute_result"
    }
   ],
   "source": [
    "# checking for duplicates \n",
    "df.duplicated().sum()"
   ]
  },
  {
   "cell_type": "markdown",
   "id": "0f40fdd1",
   "metadata": {},
   "source": [
    "now we can go on !!!"
   ]
  },
  {
   "cell_type": "markdown",
   "id": "69e4f2fa",
   "metadata": {},
   "source": [
    "Our main task is to Create a descriptive csv file from the plain-text samples with the following columns:\n",
    "* POSITION_TITLE: Job title. \n",
    "* QUALIFICATIONS: The qualifications that each applicant had for the job \n",
    "* EDUCATION _TYPE: type of education that the applicant had (master, bachelor, diploma….) \n",
    "* SCHOOL_TYPE: The type of school the applicant study in (university, college, high school) \n",
    "* EDUCATION_MAJOR: The education major you study in this school. \n",
    "* EXPERIENCE_LENGTH: The number of experience years needed to apply for this job. \n",
    "* AWORDS: If the applicant had an award or not.\n",
    "* COMMUNITY SERVICE: If the applicant had a community service work or not. \n",
    "* VOLUNTEERING: If the applicant had any volunteering or not.\n",
    "* DRIVERS_LICENSE_AVAILABILITY: Is driver license available or not for this applicant. \n",
    "* SKILLS_COUNT: number of skills that the applicant had.\n",
    "* SKILLS: the skill that applicant had. \n",
    "* Languages: the number of languages for each applicant."
   ]
  },
  {
   "cell_type": "code",
   "execution_count": 12,
   "id": "a1c89f15",
   "metadata": {},
   "outputs": [],
   "source": [
    "#lets make the datafram we want to fill\n",
    "# we add new column \"Languages_count\"\n",
    "des_csv = pd.DataFrame(columns=['POSITION_TITLE','QUALIFICATIONS','EDUCATION_TYPE','SCHOOL_TYPE',\n",
    "                                 'EDUCATION_MAJOR','EXPERINCE_LENGHT','AWORDS','COMMUNITY_SERVICE',\n",
    "                                 'VOLUNTEERING','DRIVERS_LICENSE_AVAILABILITY','SKILLS_COUNT'\n",
    "                                ,'SKILLS','LANGUAGES','LANGUAGES_COUNT'])"
   ]
  },
  {
   "cell_type": "code",
   "execution_count": null,
   "id": "bf13075e",
   "metadata": {},
   "outputs": [],
   "source": []
  },
  {
   "cell_type": "code",
   "execution_count": 13,
   "id": "483dd149",
   "metadata": {},
   "outputs": [
    {
     "data": {
      "text/plain": [
       "'         HR DIRECTOR       Summary      Over 20 years experience in recruiting,   15 plus years in Human Resources Executive Management,   5 years of HRIS development and maintenance  4 years working in a Healthcare Enviroment        Skills          Recruiting  FMLA/EEO/FLSA\\xa0  HRIS Development      Benefit Administration  Policy Development  Web Page Development\\xa0            Accomplishments      Kansas Health Institute -Health Outcomes for the State of Kansas -1999 \\nMemberships and Accolades: Project Management Institute Member, SHRM, Chamber of Commerce, 1999 Friends University President\\'s Honor Roll, 1997 Friends University Dean\\'s Honor Roll, Student Liaison for Friends University Topeka (member of Mother-To-Mother, member of the Topeka \\nAdvertising Federation, several production pieces created nominated for ADDY Awards, received recognition for outstanding customer service assistance by the State of Kansas Travel and Tourism Department., ASHHRA, KAHHR, ACM.  Additional Information: \\nLeading Change -I have been instrumental in development and implementation of the Adjutant General\\'s Retention Research project, involving survey development and analyzing the results of the surveys to present to the Adjutant General to help retain the qualified talent of the Departments.  I have been tasked with working with the Federal Security Manager for the Joint Forces Headquarters in developing policies, procedures and processes to ensure that all current and new State Employees have the appropriate security clearances for the position held per the Federal Government Requirements.  While at LMIS, I lead the Job Vacancy Project and was able to produce results in less time and man hours than in years before with staff that were inexperienced in the JVC process and procedures.  I have been responsible to develop, plan and implement database programs, for the last three positions I have held.  These were designed to cultivate, involve, renew contact, and promote active and potential employees.  These databases were used for reporting FTE usage, budget management and turnover reports.  While working in the healthcare field, I took the initiative in creating a local website that was used to receive and respond to requests for information and assistance in marketing and promoting the healthcare facility along with recruitment of potential employees.  As Human Resource Coordinator in the healthcare field, I managed the front office personnel, reduced contract labor costs for nursing staff and implemented a unique pay structure to increase PRN staff utilization.  I continually think \"Outside-the-box\" to create and develop strategies to resolve issues faced in my work environment.  In my current position, I have met and exceeded all hiring goals for the firm.  This resulted in our client increasing the business transferred to our location.        Experience      HR Director   09/2016   to   Current     Company Name   City  ,   State       Developed New Website for Agency, payroll processing changes, and implementation of\\nnew HRIS System.   Oversaw the employment process taking the lead role in clinician, physician and management\\nteam recruitment initiatives.\\n\\n  Developed, maintain\\nand interpret HR policy. Authored the Employee Handbook.\\n\\nProvided coaching\\nand support to management and supervisors on performance management and other\\nrelated issues. \\n\\n  Maintained in-depth\\nknowledge of legal requirements related to day-to-day management of employees,\\nreducing legal risks and ensuring regulatory compliance.   Evaluated and\\nrecommend changes to the employee benefits plan. Oversaw day to day\\nadministration of benefits.\\xa0           HR Director   04/2009   to   09/2016     Company Name   City  ,   State       Develped Supervisory Education, SHRO Website, SHRO HRIS System and Automation of payroll processing.  Established and directed a comprehensive statewide human resource program for both classified and unclassified State employees/positions in the Adjutant General\\'s Department.  Resolved non-routine HR related issues associated as they arose; reviewed documents and approved all hires and promotions; reviews and approved, modified and/or disapproved wage/salary requests to hire individuals above the pre-established minimum classified or unclassified pay rate,  \\xa0Reviewed any significant changes to position descriptions and determined if reclassification should be pursued; reviewed position descriptions for new positions and determined the appropriate wage range based on comparable classified position (if they exist),   Consulted with the TAG and both military and state manager/ supervisors in order to provide technical and common sense guidance on properly addressing sensitive or complex employee and organizational issues; aided them in achieving their ever changing program goals and provided innovative ideas for staffing;             Served as the administration\\'s management representative in labor negotiations with the local KAPE unit at the 190th Fire Department.          HR Manager/Sr. Recruiter   10/2003   to   06/2006     Company Name   City  ,   State       Created an HRIS tracking system used for recruitment.  Responsible for Ramp up and hiring of all customer service agents, and other positions as needed.  Placement and development of all advertising \\nMet and exceeded all hiring goals. Responsible for Hiring Senior Management to cover such duties as: Team Managers, Payroll, Quality Control.  Responsible for recruitment of 950 new employees, meeting and exceeded goals set.  Coordinated and facilitated manpower planning, recruitment and retention, career development and training, staff relations, compensation and benefits, compliance with local, state and federal statutory regulations, public programs, and regulatory audit procedures.  Served as a resource person to administration, mid-level management and staff regarding HR related.          Human Resources Coordinator   03/1996   to   02/2000     Company Name   City  ,   State       Developed HRIS database from ground up for employee records and monitoring.  Instrumental in reducing the use of Agency Staffing needs for hospital.  Coordinated and facilitates manpower planning, recruitment and retention, career development and training, staff relations, compensation and benefits, compliance with local, state and federal statutory regulations, public programs, and regulatory audit procedures.  Served as the HR resource source for administration, mid-level management and staff.  Coordinated hiring procedures, appraisals, pay increases, promotions, transfers, terminations, job postings, and all corrective actions;  One Person Office, responsible for all OSHA, Work Comp, Benefits, payroll, etc.          Education and Training      Master\\'s Degree  :   Information Management Systems   05/2005       Friends University   City  ,   State  ,   United States     3.5 Credits Earned: 62 Semester hours Information Management Systems        Bachelor of Science  :   Organizational Management   05/2000       Friends University   City  ,   State  ,   United States      4.0 Credits Earned: 62 Semester hours             Activities and Honors    Topeka Chamber of Commerce -Ambassador \\nKansas Hospital Association -Health Care Human Resources Member \\nSHRM -Legislative Liaison      Skills      Desktop Publishing,\\xa0  Newsletter productions,   DATABASE Management,   Leadership \\n\\nTraining,  OSHA, FMLA, \\n\\nWorkers Compensation.   PageMaker,   Agency Automation, back-up,   Benefits,  Budget management,  Corel Suite,   Harvard Graphics,  Access, Excel, Microsoft Publisher, MS Word,\\xa0   Quark Express, Quattro Pro,   Strategic Planning,\\xa0   Web page development,   WordPerfect     '"
      ]
     },
     "execution_count": 13,
     "metadata": {},
     "output_type": "execute_result"
    }
   ],
   "source": [
    "# take look on data how it's look like \n",
    "s= df.Resume_str.iloc[2]\n",
    "s"
   ]
  },
  {
   "cell_type": "code",
   "execution_count": 14,
   "id": "e1b46092",
   "metadata": {},
   "outputs": [],
   "source": [
    "# define function to fill POSITION_TITLE column \n",
    "def PositionTitle(resume , descriptive,columnName):\n",
    "    for i in range(resume.shape[0]) :\n",
    "        s = df.Resume_str.iloc[i]\n",
    "        #splitting the text by white spaces\n",
    "        lines = s.split() \n",
    "        processed_lines = []\n",
    "\n",
    "        for line in lines:\n",
    "            #if the whol word is upper case or space add it to the list \n",
    "            if (line.isupper()) | ( line ==' '):\n",
    "                processed_lines.append(line)\n",
    "            else :\n",
    "                break\n",
    "        # joining words on processed _line list into on line text \n",
    "        processed_text = ' '.join(processed_lines)  # Join the processed lines back into a text\n",
    "        descriptive.at[i,columnName] = processed_text"
   ]
  },
  {
   "cell_type": "markdown",
   "id": "07a7e0cb",
   "metadata": {},
   "source": [
    "#### Education and school type "
   ]
  },
  {
   "cell_type": "code",
   "execution_count": 15,
   "id": "60c13954",
   "metadata": {},
   "outputs": [],
   "source": [
    "\"\"\"\n",
    "remove_extra_spaces function \n",
    "take a text as input then \n",
    "* replace all occurrences of one or more consecutive whitespace characters with a single space.\n",
    "* his line replaces occurrences of a dot followed by a space ('. ') with just a dot ('.')\n",
    "then return the text\n",
    "\"\"\"\n",
    "def remove_extra_spaces(text):\n",
    "    text = re.sub(r'\\s+', ' ', text)\n",
    "    text = text.replace('. ', '.')\n",
    "    return text"
   ]
  },
  {
   "cell_type": "code",
   "execution_count": 16,
   "id": "fbe2aeae",
   "metadata": {},
   "outputs": [],
   "source": [
    "\"\"\"\n",
    "process_text function take this inputs :\n",
    "1) text --> represent the text we process.\n",
    "2) keyword --> certin word we want to find and split after it appears.\n",
    "3) stop_words -->list contains word that we want to stop splitting when any of them appears appears.\n",
    "\n",
    "in general this function return the text between the keyword and any of the stop words. \n",
    "The poirity is to find the key word as a first word on the sentence, if we can't find it on this condition \n",
    "we search about any appearance of it in the text, if we can't find it too then we return the all text.\n",
    "\"\"\"\n",
    "\n",
    "def process_text(text, keyword, stop_words=[]):\n",
    "    \n",
    "    # clean the text from white space\n",
    "    text = re.sub(r'\\s+', ' ', text)\n",
    "    text = text.replace('. ', '.')\n",
    "    # split text by the dot or new lines \n",
    "    sentences = re.split(r'[\\.\\n]', text)\n",
    "    # create flag to tell us if we find the word or not \n",
    "    index = -1\n",
    "    for sentence in sentences:\n",
    "        # check on every senttence if it start with the key word \n",
    "        if sentence.strip().startswith(keyword):\n",
    "            # Keep the text after the sentence with the keyword (delte all before the keyword)\n",
    "            text = text[text.index(sentence):]\n",
    "            # find the index of the keywrod \n",
    "            index = text.index(keyword)\n",
    "            break\n",
    "    # if we can't find the key word on the first of sentence we search on all text about it\n",
    "    if index == -1:\n",
    "        index = text.find(keyword)\n",
    "        \n",
    "    if index != -1:\n",
    "        # Keep the text after the keyword\n",
    "        text = text[index+len(keyword):]\n",
    "        \n",
    "        \n",
    "        # search about stopwrods using regex pattern (non capture group)\n",
    "        pattern = r'[\\.\\n\\s]\\s*(?:' + '|'.join(stop_words) + r')\\b'\n",
    "        stop_index = re.search(pattern, text)\n",
    "\n",
    "        if stop_index:\n",
    "            # Remove stop words and everything after the first occurrence\n",
    "            text = text[:stop_index.start()]\n",
    "    \n",
    "    return text\n"
   ]
  },
  {
   "cell_type": "code",
   "execution_count": 17,
   "id": "929a0b5a",
   "metadata": {},
   "outputs": [],
   "source": [
    "\"\"\"\n",
    "SchoolType funciton takes three inputs :- \n",
    "resume :- the dataframe that contains resumes we want to extract information from.\n",
    "descriptive :- the dataframe we want to fill information on .\n",
    "columnName :- the name of the column on our descriptive data .\n",
    "\n",
    "\n",
    "This function fill the schooltype column \n",
    "\"\"\"\n",
    "\n",
    "\n",
    "def SchoolType(resume , descriptive,columnName):\n",
    "    # define keywords and stop_words that we will use on processf unction \n",
    "    keyword = 'Education'\n",
    "    stop_words = ['Languages','Skills','Summary','Qualification','Experience'\n",
    "                  ,'Highlights','Conclusion','Additional',\"Accomplishments\",\n",
    "                 'Work History','Researches']\n",
    "    # iterate on all resumes \n",
    "    for i in range(resume.shape[0]) :\n",
    "        s = resume.Resume_str.iloc[i]\n",
    "        processed_text = process_text(s, keyword, stop_words)\n",
    "        # search about famous school type on that text \n",
    "        pattern = r\"(university|college|high school|institute)\"\n",
    "        school_type = re.search(pattern,processed_text.lower(),flags=re.IGNORECASE)\n",
    "        if school_type : \n",
    "            school_type = school_type.group(0)\n",
    "        \n",
    "        # fill the the column with the value \n",
    "        descriptive.at[i,columnName] = school_type"
   ]
  },
  {
   "cell_type": "code",
   "execution_count": 18,
   "id": "3365d6bc",
   "metadata": {},
   "outputs": [],
   "source": [
    "\"\"\"\n",
    "SchoolType funciton takes three inputs :- \n",
    "resume :- the dataframe that contains resumes we want to extract information from \n",
    "descriptive :- the dataframe we want to fill information on \n",
    "columnName :- the name of the column on our descriptive data \n",
    "\n",
    "\n",
    "This function fill the Education_Type colmun \n",
    "\"\"\"\n",
    "\n",
    "def EducationType(resume,discriptive,columnName):\n",
    "    # define the keyword and stopwords for process function\n",
    "    keyword = 'Education'\n",
    "    stop_words = ['Languages','Skills','Summary','Qualification','Experience'\n",
    "              ,'Highlights','Conclusion','Additional',\"Accomplishments\",\n",
    "             'Work History','Researches']\n",
    "    # iterate over all resumes \n",
    "    for i in range(resume.shape[0]) :\n",
    "        s = resume.Resume_str.iloc[i]\n",
    "        processed_text = process_text(s, keyword, stop_words)\n",
    "        # split by white space \n",
    "        words = processed_text.split()\n",
    "        for j in range (len(words)):\n",
    "            # if any word contains of uppercase then just let it as it is, to catch abbreviations\n",
    "            if words[j].isupper():\n",
    "                continue\n",
    "            else:\n",
    "                words[j] = words[j].lower()\n",
    "        text = ' '.join(words)\n",
    "    # i will define patterns for each education type (famous one) \n",
    "        patterns = [\n",
    "        (r\"(ph\\.D?|doctor|doctorate|P.?h.?D.?|D.?Ph.?|D.?L.?i.?t.?|D.?Sc.?|D.?Eng.?|D.?Min.?|Th.?D.?|LL.?D.?|J.?D.?|Ed.?D.?|Psy.?D.?|M.?D.?-Ph.?D.?|Au.?D.?|D.?C.?M.?|D.?O.?-Ph.?D.?|D.?N.?P.?|D.?C.?N.?P.?|D.?S.?N.?|D.?P.?T.?)\", \"Doctor\"),\n",
    "        (r\"(master|M\\.?A\\.?|M\\.?S\\.?|M\\.?B\\.?A\\.?|M\\.?Ed\\.?|M\\.?F\\.?A\\.?|M\\.?S\\.?W\\.?|M\\.?P\\.?H\\.?|M\\.?P\\.?A\\.?|M\\.?S\\.?N\\.?|M\\.?L\\.?I\\.?S\\.?)\", \"Master\"),\n",
    "        (r\"(bachelor|B\\.?A\\.?|B\\.?S\\.?|B\\.?B\\.?A\\.?|B\\.?E\\.?D\\.?|B\\.?F\\.?A\\.?|B\\.?S\\.?W\\.?|B\\.?P\\.?H\\.?|B\\.?P\\.?A\\.?|B\\.?S\\.?N\\.?|B\\.?L\\.?I\\.?S\\.?|B\\.?H\\.?R\\.?M\\.?|B\\.?C\\.?O\\.?M\\.?|B\\.?T\\.?E\\.?C\\.?H\\.?|B\\.?D\\.?E\\.?S\\.?|B\\.?A\\.?M\\.?S\\.?|B\\.?E\\.?D\\.?U\\.?|B\\.?C\\.?S\\.?|B\\.?L\\.?A\\.?W\\.?|B\\.?F\\.?I\\.?N\\.?|B\\.?C\\.?H\\.?E\\.?M\\.?|B\\.?B\\.?M\\.?S\\.?|B\\.?N\\.?A\\.?T\\.?|B\\.?C\\.?S\\.?E\\.?|B\\.?M\\.?T\\.?E\\.?C\\.?H\\.?|B\\.?C\\.?A\\.?R\\.?E\\.?|B\\.?C\\.?O\\.?R\\.?P\\.?E\\.?D\\.?|B\\.?C\\.?A\\.?T\\.?H\\.?|B\\.?F\\.?M\\.?A\\.?|B\\.?C\\.?O\\.?M\\.?P\\.?|B\\.?I\\.?N\\.?T\\.?L\\.?B\\.?U\\.?S\\.?|B\\.?C\\.?I\\.?V\\.?I\\.?L\\.?E\\.?|B\\.?D\\.?I\\.?V\\.?M\\.?E\\.?D\\.?I\\.?A\\.?|B\\.?E\\.?L\\.?E\\.?C\\.?T\\.?R\\.?O\\.?N\\.?I\\.?C\\.?S\\.?|B\\.?S\\.?E\\.?C\\.?O\\.?N\\.?|B\\.?H\\.?U\\.?M\\.?A\\.?N\\.?I\\.?T\\.?I\\.?E\\.?S\\.?|B\\.?L\\.?I\\.?B\\.?E\\.?R\\.?A\\.?L\\.?A\\.?R\\.?T\\.?S\\.?|B\\.?I\\.?N\\.?T\\.?E\\.?R\\.?N\\.?A\\.?T\\.?I\\.?O\\.?N\\.?A\\.?L\\.?S\\.?T\\.?U\\.?D\\.?I\\.?E\\.?S\\.?|B\\.?E\\.?L\\.?E\\.?A\\.?R\\.?N\\.?I\\.?N\\.?G\\.?S\\.?|B\\.?S\\.?B\\.?A\\.?S\\.?|B\\.?A\\.?S\\.?E\\.?D\\.?)\", \"Bachelor\"),\n",
    "        (r\"(associate|A.?A.?|A.?S.?|A.?A.?S.?|A.?B.?|A.?A.?T.?|A.?P.?S.?|A.?T.?|A.?C.?|A.?E.?|A.?I.?S.?|A.?N.?|A.?P.?N.?|A.?P.?M.?|A.?C.?S.?|A.?H.?|A.?S.?N.?|A.?S.?T.?|A.?V.?|A.?C.?A.?|A.?S.?S.?)\", \"Associate\"),\n",
    "        (r\"(diploma)\", \"Diploma\"),\n",
    "        (r\"(high school+)\", \"High School\")\n",
    "    ]\n",
    "        for pattern, education_type in patterns:\n",
    "            match = re.search(pattern, text)\n",
    "            if match:\n",
    "                des_csv.at[i,'EDUCATION_TYPE']=education_type\n",
    "                break\n",
    "        else:\n",
    "            des_csv.at[i,'EDUCATION_TYPE']=None"
   ]
  },
  {
   "cell_type": "markdown",
   "id": "c97188a4",
   "metadata": {},
   "source": [
    "### Volunteering column\n",
    "\n"
   ]
  },
  {
   "cell_type": "code",
   "execution_count": 19,
   "id": "33820ea5",
   "metadata": {},
   "outputs": [],
   "source": [
    "\"\"\"\n",
    "Volunteering_column function takes three inputs. \n",
    "resume :- the dataframe that contains resumes we want to extract information from. \n",
    "descriptive :- the dataframe we want to fill information on .\n",
    "columnName :- the name of the column on our descriptive data.\n",
    "\"\"\"\n",
    "\n",
    "\n",
    "def Volunteering_column(resume,descriptive,columnName):\n",
    "    #iterate on all resumes\n",
    "    for i in range(resume.shape[0]):\n",
    "        # remove extraspaces and change it to lower case \n",
    "        s = remove_extra_spaces(resume.Resume_str.iloc[i].lower())\n",
    "        # if we find any of these words fill the column with ture, else fill it with false \n",
    "        find = re.search(r\"(volunteer|community.service|non-?profit|charity|philanthropy|club|hub)\",s)\n",
    "\n",
    "        if find:\n",
    "            des_csv.at[i,columnName] = 1\n",
    "        else:\n",
    "            des_csv.at[i,columnName] = 0\n"
   ]
  },
  {
   "cell_type": "markdown",
   "id": "ae815d2c",
   "metadata": {},
   "source": [
    "### AWORDS column"
   ]
  },
  {
   "cell_type": "code",
   "execution_count": 20,
   "id": "174f4ced",
   "metadata": {},
   "outputs": [],
   "source": [
    "\"\"\"\n",
    "Awords_column function takes three inputs. \n",
    "resume :- the dataframe that contains resumes we want to extract information from. \n",
    "descriptive :- the dataframe we want to fill information on .\n",
    "columnName :- the name of the column on our descriptive data.\n",
    "\n",
    "This function fill (colmunName) with 0 or 1 represents if the applicants have awords or not\n",
    "\"\"\"\n",
    "\n",
    "def Awords_column(resume,descriptive,columnName):\n",
    "    for i in range(resume.shape[0]):\n",
    "        # remove extra spaces and make text on lower form \n",
    "        s = remove_extra_spaces(resume.Resume_str.iloc[i].lower())\n",
    "        # search on this words \n",
    "        find = re.search(r\"(award|honors?|prize|recognitions?|commendation)\", s)\n",
    "\n",
    "        if find:\n",
    "            des_csv.at[i,columnName] = 1\n",
    "        else:\n",
    "            des_csv.at[i,columnName] = 0\n"
   ]
  },
  {
   "cell_type": "markdown",
   "id": "80b92f98",
   "metadata": {},
   "source": [
    "### Community Scerivce column"
   ]
  },
  {
   "cell_type": "code",
   "execution_count": 21,
   "id": "d9a88393",
   "metadata": {},
   "outputs": [],
   "source": [
    "\"\"\"\n",
    "CommunityService_column function takes three inputs. \n",
    "resume :- the dataframe that contains resumes we want to extract information from. \n",
    "descriptive :- the dataframe we want to fill information on .\n",
    "columnName :- the name of the column on our descriptive data.\n",
    "\n",
    "This function fill (colmunName) with 0 or 1 represents if the applicants do any communityservice or not\n",
    "\"\"\"\n",
    "\n",
    "\n",
    "def CommunityService_column(resume,descriptive,columnName):\n",
    "    for i in range(resume.shape[0]):\n",
    "        s = remove_extra_spaces(resume.Resume_str.iloc[i].lower())\n",
    "\n",
    "        find = re.search(r\"(community.?service|social.?work|public.?service|civic.?engagement|volunteerism|charity.?work|non-?profit.?involvement|outreach.?programs|humanitarian.?efforts|service.?projects|community.?involvement|social.?activism|philanthropic.?work|giving.?back|club)\",s)\n",
    "\n",
    "        \n",
    "        if find:\n",
    "            descriptive.at[i,columnName] = 1\n",
    "        else:\n",
    "            descriptive.at[i,columnName] = 0\n"
   ]
  },
  {
   "cell_type": "markdown",
   "id": "12968665",
   "metadata": {},
   "source": [
    "### Drive license avalability  column "
   ]
  },
  {
   "cell_type": "code",
   "execution_count": 22,
   "id": "7f58f7b0",
   "metadata": {},
   "outputs": [],
   "source": [
    "\"\"\"\n",
    "DriveLicenseAvailability_column function takes three inputs. \n",
    "resume :- the dataframe that contains resumes we want to extract information from. \n",
    "descriptive :- the dataframe we want to fill information on .\n",
    "columnName :- the name of the column on our descriptive data.\n",
    "\n",
    "This function fill (colmunName) with 0 or 1 represents if the applicant have drive license or not\n",
    "\"\"\"\n",
    "\n",
    "\n",
    "def DriveLicenseAvailability_column(resume,descriptive,columnName):\n",
    "    for i in range(resume.shape[0]):\n",
    "\n",
    "        s = resume.Resume_str.iloc[i].lower()\n",
    "\n",
    "        find = re.search(r\"(\\bdriver\\b|\\bdriv(er's|ing) license\\b)\",s)\n",
    "\n",
    "        if find:\n",
    "            descriptive.at[i,columnName] = 1 \n",
    "        else :\n",
    "            descriptive.at[i,columnName] = 0\n"
   ]
  },
  {
   "cell_type": "markdown",
   "id": "d9137476",
   "metadata": {},
   "source": [
    "### Language Column "
   ]
  },
  {
   "cell_type": "code",
   "execution_count": 23,
   "id": "794de9af",
   "metadata": {},
   "outputs": [],
   "source": [
    "\n",
    "# define list with most common languages needed in the market, and other common languages ingeneral\n",
    "languages = [\n",
    "    \"english\", \"chinese\", \"spanish\", \"arabic\", \"hindi\", \"bengali\", \"portuguese\",\n",
    "    \"russian\", \"japanese\", \"punjabi\", \"german\", \"javanese\", \"wu\", \"malay\", \"telugu\",\n",
    "    \"vietnamese\", \"korean\", \"french\", \"marathi\", \"tamil\", \"urdu\", \"turkish\", \"italian\",\n",
    "    \"yue\", \"thai\", \"gujarati\", \"jinyu\", \"southern min\", \"persian\", \"polish\", \"pashto\",\n",
    "    \"kannada\", \"xinyan\", \"sundanese\", \"maithili\", \"hausa\", \"odia\", \"burmese\", \"hakka\",\n",
    "    \"ukrainian\", \"bhojpuri\", \"tagalog\", \"yoruba\", \"maithili\", \"swahili\", \"uzbek\",\n",
    "    \"sindhi\", \"amharic\", \"fula\", \"romanian\", \"azerbaijani\", \"dutch\", \"yoruba\", \"nepali\",\n",
    "    \"yunan\", \"punjabi\", \"farsi\", \"javanese\", \"laotian\", \"xiang\", \"malayalam\", \"xiang\",\n",
    "    \"saraiki\", \"khmer\", \"kurmanji\", \"konkani\", \"tigrinya\", \"madurese\", \"serbo-croatian\",\n",
    "    \"sindhi\", \"sylheti\", \"assamese\", \"somali\", \"marwari\", \"magahi\", \"haryanvi\", \"hungarian\",\n",
    "    \"chhattisgarhi\", \"greek\", \"chewa\", \"czech\", \"kazakh\", \"deccan\", \"minangkabau\", \"dhuwa\",\n",
    "    \"kinyarwanda\", \"sanaani\", \"saraiki\", \"min\", \"haitian creole\", \"shona\", \"zulu\",\n",
    "    \"catalan\", \"cantonese\", \"uighur\", \"bi\", \"tajik\", \"belarusian\", \"bakhtiari\", \"sunda\",\n",
    "    \"haitian\", \"hokkien\", \"tigrinya\", \"mosotho\", \"kanuri\", \"latvian\", \"southern min\",\n",
    "    \"maithili\", \"sylheti\", \"venezuelan sign language\"\n",
    "]"
   ]
  },
  {
   "cell_type": "code",
   "execution_count": 24,
   "id": "bdce41ba",
   "metadata": {},
   "outputs": [],
   "source": [
    "\n",
    "\"\"\"\n",
    "LANGUAGES_column function takes five inputs \n",
    "resume :- the dataframe that contains resumes we want to extract information from. \n",
    "descriptive :- the dataframe we want to fill information on .\n",
    "col1 :- the name of the (languages column) on the descriptive data.\n",
    "col2 :- name of the (languages column) on the descriptive data.\n",
    "languages :- list of popular languages you need to search about \n",
    "\n",
    "This function fills two column languges that the applicant speeks, and fill the other column with the\n",
    "number of languges. \n",
    "\n",
    "\"\"\"\n",
    "def LANGUAGES_column(resume, descriptive, col, col2, languages):\n",
    "    # define stop words and keyword for preprocessing function  \n",
    "    keyword = 'Languages'\n",
    "    stop_words = ['Skills','Education','Summary','Qualification','Experience','Highlights','Conclusion','Additional']\n",
    "    for i in range(resume.shape[0]):\n",
    "        \n",
    "        s = process_text(resume.Resume_str.iloc[i], keyword, stop_words)\n",
    "        # define pattren to find languages from the list \n",
    "        pattern = r\"\\b(\" + \"|\".join(languages) + r\")\\b\"\n",
    "        # find all matches \n",
    "        found_languages = re.findall(pattern, s.lower())\n",
    "        # we create set to avoid recurrence\n",
    "        unique_languages = list(set(found_languages))\n",
    "        number_of_languages = len(unique_languages)\n",
    "        # if we find languages then fill colmuns with it \n",
    "        if found_languages:\n",
    "            if 'english' not in unique_languages:\n",
    "                unique_languages.append('english')\n",
    "                number_of_languages += 1\n",
    "            descriptive.at[i, col] = ','.join(unique_languages)\n",
    "            descriptive.at[i, col2] = number_of_languages\n",
    "        # else make language english \n",
    "        else:\n",
    "            descriptive.at[i, col] = 'english'\n",
    "            descriptive.at[i, col2] = 1\n"
   ]
  },
  {
   "cell_type": "markdown",
   "id": "1c20c6f6",
   "metadata": {},
   "source": [
    "## Education major \n"
   ]
  },
  {
   "cell_type": "code",
   "execution_count": 25,
   "id": "5e0d1650",
   "metadata": {},
   "outputs": [],
   "source": [
    "#create keyword and stopwords to use in this column \n",
    "keyword = 'Education'\n",
    "stop_words = ['Languages','Skills','Summary','Qualification','Experience'\n",
    "              ,'Highlights','Conclusion','Additional',\"Accomplishments\",\n",
    "             'Work History','Researches']\n",
    "def EducationMajor_column(resume,descriptive,colName):\n",
    "    for i in range(resume.shape[0]):\n",
    "        if descriptive.EDUCATION_TYPE[i] == \"high school\":\n",
    "            descriptive.at[i,colName] = 'high school'\n",
    "        else : \n",
    "            s = process_text(resume.Resume_str.iloc[i],keyword,stop_words)\n",
    "            s = s.lower()\n",
    "            # the education major appear on the first 150 word nearly \n",
    "            s = s[:150].split(': ')\n",
    "            # if we find splitting then take the first value after splitting \n",
    "            if len(s) > 1 :\n",
    "                s = s[1]\n",
    "            else :\n",
    "                # search after 'of'\n",
    "                s = s[0].split('of')\n",
    "                if len(s) > 1:\n",
    "                    s = s[1]\n",
    "                else: \n",
    "                    s= 'none'\n",
    "            pattern = '([a-z]+(?:\\s[a-z]+)?)'\n",
    "            match = re.search(pattern,s)\n",
    "            if match :\n",
    "                if match.group(0)=='none':\n",
    "                    des_csv.at[i,colName] = None\n",
    "                else:\n",
    "                    des_csv.at[i,colName] = match.group(0)\n",
    "            else :\n",
    "                des_csv.at[i,colName] = None\n"
   ]
  },
  {
   "cell_type": "markdown",
   "id": "345991a3",
   "metadata": {},
   "source": [
    "### Skills and skills count columns "
   ]
  },
  {
   "cell_type": "code",
   "execution_count": 26,
   "id": "24aa894f",
   "metadata": {},
   "outputs": [],
   "source": [
    "keyword = 'Skills'\n",
    "stop_words = ['Languages','Education','Summary','Qualification','Experience'\n",
    "              ,'Highlights','Conclusion','Additional',\"Accomplishments\",\n",
    "             'Work History','Researches']"
   ]
  },
  {
   "cell_type": "code",
   "execution_count": 27,
   "id": "d6371899",
   "metadata": {},
   "outputs": [],
   "source": [
    "\"\"\"\n",
    "This function create list with most common skills to claen our results \n",
    "\n",
    "\n",
    "\"\"\"\n",
    "def common_skills (df):\n",
    "    famous = []\n",
    "    for i in range(df.shape[0]):\n",
    "        # reach the Skills section on resume\n",
    "        s = process_text(df.Resume_str.iloc[i], keyword, stop_words)\n",
    "        s = s.lower()\n",
    "        # it seems in most cases skills separted by comma \n",
    "        s = s.split(',')\n",
    "\n",
    "        famous.extend(s)\n",
    "\n",
    "    famous = (pd.Series(famous)).value_counts()\n",
    "    # chose skills that appears more than 3 times \n",
    "    famous = famous[famous.values >3]\n",
    "    famous = famous.drop(' c')\n",
    "    return famous\n"
   ]
  },
  {
   "cell_type": "code",
   "execution_count": 28,
   "id": "bbf4d453",
   "metadata": {},
   "outputs": [],
   "source": [
    "famous = common_skills(df)"
   ]
  },
  {
   "cell_type": "code",
   "execution_count": 29,
   "id": "4f31a181",
   "metadata": {},
   "outputs": [],
   "source": [
    "\"\"\"\n",
    "Skills_columns function takes five inputs :- \n",
    "resume :- the dataframe that contains resumes we want to extract information from. \n",
    "descriptive :- the dataframe we want to fill information on .\n",
    "skill_col :- the name of the (skill column) on the descriptive data.\n",
    "count_col :- name of the (skills number column) on the descriptive data.\n",
    "skills_famous :- list that we create from the prevous function, we saperate the operation to make you feel free to \n",
    "use your own skills if you want .\n",
    "\n",
    "This function looks on skills section on the resume and try to catch all skills from it.\n",
    "\n",
    "\"\"\"\n",
    "def Skills_columns(resume,descriptive,skill_col,count_col,skills_famous):\n",
    "    for i in range(df.shape[0]):\n",
    "        s = process_text(df.Resume_str.iloc[i], keyword, stop_words)\n",
    "        s = s.lower()\n",
    "        # split skills section by comma \n",
    "        s = s.split(',')\n",
    "        \n",
    "        # search on each skill in s if it appears on common skill \n",
    "        for j in range(len(s)):\n",
    "            skill_found = False\n",
    "            for skill in famous.index:\n",
    "                if str(skill) in s[j]: \n",
    "                    s[j] = str(skill)\n",
    "                    skill_found = True\n",
    "                    break\n",
    "\n",
    "            if not skill_found:\n",
    "                s[j] = \" \"\n",
    "        s = [item for item in s if item.strip()]\n",
    "        descriptive.at[i,skill_col] = \",\".join(s)  \n",
    "        descriptive.at[i,count_col] = len(s)"
   ]
  },
  {
   "cell_type": "markdown",
   "id": "24af3c46",
   "metadata": {},
   "source": [
    "### EXPERINCE_LENGHT column"
   ]
  },
  {
   "cell_type": "code",
   "execution_count": 30,
   "id": "6fc1e48f",
   "metadata": {},
   "outputs": [],
   "source": [
    "# create function to calculate the lenght between dates in list of experince dates that we take from every user \n",
    "\n",
    "from datetime import datetime\n",
    "# we will give this function list of dates that an applicant workd at \n",
    "def find_experience_years(date_list):\n",
    "    current_year = datetime.now().year\n",
    "    total_years = 0\n",
    "    #create month dictionary to catch all forms that month may appears with. \n",
    "    month_dict = {\n",
    "        'jan': 'january', 'feb': 'february', 'mar': 'march', 'apr': 'april', 'may': 'may', 'jun': 'june',\n",
    "        'jul': 'july', 'aug': 'august', 'sep': 'september', 'oct': 'october', 'nov': 'november', 'dec': 'december'\n",
    "    }\n",
    "\n",
    "    for date_range in date_list:\n",
    "        # define all forms that the date may appear with\n",
    "        pattern = r\"(\\b(?:january|jan|february|feb|march|mar|april|apr|may|june|jun|july|jul|august|aug|september|sep|october|oct|november|nov|december|dec)\\b)?\\s?(\\d{4}|\\d{2}/\\d{4})\\b\\s?(?:-|to)\\s?(\\b(?:january|jan|february|feb|march|mar|april|apr|may|june|jun|july|jul|august|aug|september|sep|october|oct|november|nov|december|dec)\\b)?\\s?(\\d{4}|\\d{2}/\\d{4}|\\bcurrent\\b)\"\n",
    "        \n",
    "        \n",
    "        matches = re.findall(pattern, date_range)\n",
    "        # start end perioud \n",
    "        for start_month, start_year, end_month, end_year in matches:\n",
    "            if '/' in start_year:\n",
    "                start_month, start_year = start_year.split('/')\n",
    "            start_month = month_dict.get(start_month.lower(), 'january')\n",
    "            start_month = datetime.strptime(start_month, \"%B\").month\n",
    "            start_date = datetime(int(start_year), start_month, 1)\n",
    "            \n",
    "            if end_year == \"current\":\n",
    "                end_date = datetime.now()\n",
    "            else:\n",
    "                if '/' in end_year:\n",
    "                    end_month, end_year = end_year.split('/')\n",
    "                end_month = month_dict.get(end_month.lower(), 'january')\n",
    "                end_month = datetime.strptime(end_month, \"%B\").month\n",
    "                end_date = datetime(int(end_year), end_month, 1)\n",
    "            \n",
    "            duration = end_date - start_date\n",
    "            \n",
    "            # Calculate the duration in years\n",
    "            years = duration.days / 365.25  # Account for leap years\n",
    "            \n",
    "            # Consider any experience less than a year as one year\n",
    "            if duration.days < 365.25:\n",
    "                years = 1\n",
    "            \n",
    "            total_years += years\n",
    "\n",
    "    return int(total_years)"
   ]
  },
  {
   "cell_type": "code",
   "execution_count": 31,
   "id": "6f6f3e51",
   "metadata": {},
   "outputs": [],
   "source": [
    "# create function to fill the data frame with experince lenght \n",
    "\n",
    "def Experince_column (resume,descriptive,columnName):\n",
    "    pattern = r'(\\b[a-z]+\\b \\d{4}\\b to?-? \\b[a-z]+\\b \\d{4}\\b|\\b[a-z]+\\b \\d{4}\\b to?-?\\bcurrent\\b|\\d{2}/\\d{4} [a-z-]+ \\d{2}/\\d{4}|\\d{2}/\\d{4} to? ?-?current)'\n",
    "    for i in range(df.shape[0]):\n",
    "        s = df.Resume_str.iloc[i]\n",
    "        text = ' '.join(s.split())\n",
    "        text = text.replace('. ', '.')\n",
    "        text = text.lower()\n",
    "        matches = re.findall(pattern, text)\n",
    "        if matches:\n",
    "            exp = find_experience_years(matches)\n",
    "            descriptive.at[i,columnName] = exp"
   ]
  },
  {
   "cell_type": "markdown",
   "id": "8406ac26",
   "metadata": {},
   "source": [
    "### QUALIFICATIONS Column"
   ]
  },
  {
   "cell_type": "code",
   "execution_count": 32,
   "id": "bbea1f9e",
   "metadata": {},
   "outputs": [],
   "source": [
    "keyword = ''\n",
    "stop_words = ['Languages','Education','Experience'\n",
    "              ,'Conclusion','Additional',\"Accomplishments\",\n",
    "             'Work History','Researches']"
   ]
  },
  {
   "cell_type": "code",
   "execution_count": 33,
   "id": "aea49a89",
   "metadata": {},
   "outputs": [],
   "source": [
    "def Qualification_column(resume,descriptive,columnName):\n",
    "    pattern = r'(Qualification|Highlights|Summary)'\n",
    "    for i in range(resume.shape[0]):\n",
    "        s = resume.Resume_str.iloc[i]\n",
    "        text = ' '.join(s.split())\n",
    "        text = text.replace('. ', '.')\n",
    "\n",
    "        find = re.search(pattern,text)\n",
    "        if find:\n",
    "            text = process_text(s,keyword=find.group(0),stop_words=stop_words)\n",
    "            sentences = re.split(r'[\\.\\n]', text.lower())\n",
    "            if len(sentences)>3:\n",
    "                sentence = \",\".join(sentences)\n",
    "                sentence = sentence.split(',')\n",
    "                descriptive.at[i,columnName] = \",\".join(sentence[:5])\n",
    "            else:\n",
    "                descriptive.at[i,columnName] = \",\".join(sentences)\n",
    "        "
   ]
  },
  {
   "cell_type": "code",
   "execution_count": 34,
   "id": "1f795696",
   "metadata": {},
   "outputs": [],
   "source": [
    "#Creating the \n",
    "PositionTitle(df,des_csv,'POSITION_TITLE')\n",
    "SchoolType(df,des_csv,'SCHOOL_TYPE')\n",
    "EducationType(df,des_csv,'EDUCATION_TYPE')\n",
    "Volunteering_column(df,des_csv,'VOLUNTEERING')\n",
    "Awords_column(df,des_csv,'AWORDS')\n",
    "CommunityService_column(df,des_csv,\"COMMUNITY_SERVICE\")\n",
    "DriveLicenseAvailability_column(df,des_csv,'DRIVERS_LICENSE_AVAILABILITY')\n",
    "LANGUAGES_column(df,des_csv,\"LANGUAGES\",\"LANGUAGES_COUNT\",languages)\n",
    "EducationMajor_column(df,des_csv,'EDUCATION_MAJOR')\n",
    "Skills_columns(df,des_csv,\"SKILLS\",\"SKILLS_COUNT\",famous)\n",
    "Experince_column(df,des_csv,'EXPERINCE_LENGHT')\n",
    "Qualification_column(df,des_csv,'QUALIFICATIONS')\n",
    "Qualification_column(df,des_csv,'QUALIFICATIONS')"
   ]
  },
  {
   "cell_type": "code",
   "execution_count": 35,
   "id": "342bf113",
   "metadata": {},
   "outputs": [],
   "source": [
    "numerical_columns = ['EXPERINCE_LENGHT', 'SKILLS_COUNT', 'LANGUAGES_COUNT']\n",
    "\n",
    "for column in numerical_columns:\n",
    "    des_csv[column] = des_csv[column].astype(float)"
   ]
  },
  {
   "cell_type": "code",
   "execution_count": 36,
   "id": "6f8f5704",
   "metadata": {},
   "outputs": [
    {
     "name": "stdout",
     "output_type": "stream",
     "text": [
      "<class 'pandas.core.frame.DataFrame'>\n",
      "Int64Index: 2458 entries, 0 to 2457\n",
      "Data columns (total 14 columns):\n",
      " #   Column                        Non-Null Count  Dtype  \n",
      "---  ------                        --------------  -----  \n",
      " 0   POSITION_TITLE                2458 non-null   object \n",
      " 1   QUALIFICATIONS                2196 non-null   object \n",
      " 2   EDUCATION_TYPE                2334 non-null   object \n",
      " 3   SCHOOL_TYPE                   2315 non-null   object \n",
      " 4   EDUCATION_MAJOR               1672 non-null   object \n",
      " 5   EXPERINCE_LENGHT              2352 non-null   float64\n",
      " 6   AWORDS                        2458 non-null   object \n",
      " 7   COMMUNITY_SERVICE             2458 non-null   object \n",
      " 8   VOLUNTEERING                  2458 non-null   object \n",
      " 9   DRIVERS_LICENSE_AVAILABILITY  2458 non-null   object \n",
      " 10  SKILLS_COUNT                  2458 non-null   float64\n",
      " 11  SKILLS                        2458 non-null   object \n",
      " 12  LANGUAGES                     2458 non-null   object \n",
      " 13  LANGUAGES_COUNT               2458 non-null   float64\n",
      "dtypes: float64(3), object(11)\n",
      "memory usage: 352.6+ KB\n"
     ]
    }
   ],
   "source": [
    "des_csv.info()"
   ]
  },
  {
   "cell_type": "code",
   "execution_count": 37,
   "id": "cc4e4b0c",
   "metadata": {
    "scrolled": true
   },
   "outputs": [
    {
     "data": {
      "text/html": [
       "<div>\n",
       "<style scoped>\n",
       "    .dataframe tbody tr th:only-of-type {\n",
       "        vertical-align: middle;\n",
       "    }\n",
       "\n",
       "    .dataframe tbody tr th {\n",
       "        vertical-align: top;\n",
       "    }\n",
       "\n",
       "    .dataframe thead th {\n",
       "        text-align: right;\n",
       "    }\n",
       "</style>\n",
       "<table border=\"1\" class=\"dataframe\">\n",
       "  <thead>\n",
       "    <tr style=\"text-align: right;\">\n",
       "      <th></th>\n",
       "      <th>POSITION_TITLE</th>\n",
       "      <th>QUALIFICATIONS</th>\n",
       "      <th>EDUCATION_TYPE</th>\n",
       "      <th>SCHOOL_TYPE</th>\n",
       "      <th>EDUCATION_MAJOR</th>\n",
       "      <th>EXPERINCE_LENGHT</th>\n",
       "      <th>AWORDS</th>\n",
       "      <th>COMMUNITY_SERVICE</th>\n",
       "      <th>VOLUNTEERING</th>\n",
       "      <th>DRIVERS_LICENSE_AVAILABILITY</th>\n",
       "      <th>SKILLS_COUNT</th>\n",
       "      <th>SKILLS</th>\n",
       "      <th>LANGUAGES</th>\n",
       "      <th>LANGUAGES_COUNT</th>\n",
       "    </tr>\n",
       "  </thead>\n",
       "  <tbody>\n",
       "    <tr>\n",
       "      <th>0</th>\n",
       "      <td>HR ADMINISTRATOR/MARKETING ASSOCIATE HR ADMINI...</td>\n",
       "      <td>dedicated customer service manager with 15+ y...</td>\n",
       "      <td>Diploma</td>\n",
       "      <td>college</td>\n",
       "      <td>experience in</td>\n",
       "      <td>13.0</td>\n",
       "      <td>1</td>\n",
       "      <td>0</td>\n",
       "      <td>0</td>\n",
       "      <td>0</td>\n",
       "      <td>2.0</td>\n",
       "      <td>customer service, customer service</td>\n",
       "      <td>english</td>\n",
       "      <td>1.0</td>\n",
       "    </tr>\n",
       "    <tr>\n",
       "      <th>1</th>\n",
       "      <td>HR SPECIALIST, US HR OPERATIONS</td>\n",
       "      <td>versatile media professional with background ...</td>\n",
       "      <td>Master</td>\n",
       "      <td>university</td>\n",
       "      <td>essional with</td>\n",
       "      <td>14.0</td>\n",
       "      <td>0</td>\n",
       "      <td>0</td>\n",
       "      <td>0</td>\n",
       "      <td>0</td>\n",
       "      <td>4.0</td>\n",
       "      <td>hr, hr, marketing, human resources</td>\n",
       "      <td>english</td>\n",
       "      <td>1.0</td>\n",
       "    </tr>\n",
       "    <tr>\n",
       "      <th>2</th>\n",
       "      <td>HR DIRECTOR</td>\n",
       "      <td>over 20 years experience in recruiting, 15 pl...</td>\n",
       "      <td>Master</td>\n",
       "      <td>university</td>\n",
       "      <td>hris development</td>\n",
       "      <td>21.0</td>\n",
       "      <td>1</td>\n",
       "      <td>0</td>\n",
       "      <td>0</td>\n",
       "      <td>0</td>\n",
       "      <td>3.0</td>\n",
       "      <td>director, human resources, hr</td>\n",
       "      <td>english</td>\n",
       "      <td>1.0</td>\n",
       "    </tr>\n",
       "    <tr>\n",
       "      <th>3</th>\n",
       "      <td>HR SPECIALIST</td>\n",
       "      <td>dedicated, driven, and dynamic with over 20 y...</td>\n",
       "      <td>None</td>\n",
       "      <td>None</td>\n",
       "      <td>customer service</td>\n",
       "      <td>6.0</td>\n",
       "      <td>0</td>\n",
       "      <td>0</td>\n",
       "      <td>0</td>\n",
       "      <td>0</td>\n",
       "      <td>6.0</td>\n",
       "      <td>hr, clients, excel, access, outlook, excel</td>\n",
       "      <td>english</td>\n",
       "      <td>1.0</td>\n",
       "    </tr>\n",
       "    <tr>\n",
       "      <th>4</th>\n",
       "      <td>HR MANAGER</td>\n",
       "      <td>hr skills hr department startup three new org...</td>\n",
       "      <td>Bachelor</td>\n",
       "      <td>university</td>\n",
       "      <td>None</td>\n",
       "      <td>11.0</td>\n",
       "      <td>0</td>\n",
       "      <td>0</td>\n",
       "      <td>1</td>\n",
       "      <td>0</td>\n",
       "      <td>6.0</td>\n",
       "      <td>policies, office, excel, powerpoint, access, ...</td>\n",
       "      <td>english</td>\n",
       "      <td>1.0</td>\n",
       "    </tr>\n",
       "  </tbody>\n",
       "</table>\n",
       "</div>"
      ],
      "text/plain": [
       "                                      POSITION_TITLE  \\\n",
       "0  HR ADMINISTRATOR/MARKETING ASSOCIATE HR ADMINI...   \n",
       "1                    HR SPECIALIST, US HR OPERATIONS   \n",
       "2                                        HR DIRECTOR   \n",
       "3                                      HR SPECIALIST   \n",
       "4                                         HR MANAGER   \n",
       "\n",
       "                                      QUALIFICATIONS EDUCATION_TYPE  \\\n",
       "0   dedicated customer service manager with 15+ y...        Diploma   \n",
       "1   versatile media professional with background ...         Master   \n",
       "2   over 20 years experience in recruiting, 15 pl...         Master   \n",
       "3   dedicated, driven, and dynamic with over 20 y...           None   \n",
       "4   hr skills hr department startup three new org...       Bachelor   \n",
       "\n",
       "  SCHOOL_TYPE   EDUCATION_MAJOR  EXPERINCE_LENGHT AWORDS COMMUNITY_SERVICE  \\\n",
       "0     college     experience in              13.0      1                 0   \n",
       "1  university     essional with              14.0      0                 0   \n",
       "2  university  hris development              21.0      1                 0   \n",
       "3        None  customer service               6.0      0                 0   \n",
       "4  university              None              11.0      0                 0   \n",
       "\n",
       "  VOLUNTEERING DRIVERS_LICENSE_AVAILABILITY  SKILLS_COUNT  \\\n",
       "0            0                            0           2.0   \n",
       "1            0                            0           4.0   \n",
       "2            0                            0           3.0   \n",
       "3            0                            0           6.0   \n",
       "4            1                            0           6.0   \n",
       "\n",
       "                                              SKILLS LANGUAGES  \\\n",
       "0                 customer service, customer service   english   \n",
       "1                 hr, hr, marketing, human resources   english   \n",
       "2                      director, human resources, hr   english   \n",
       "3         hr, clients, excel, access, outlook, excel   english   \n",
       "4   policies, office, excel, powerpoint, access, ...   english   \n",
       "\n",
       "   LANGUAGES_COUNT  \n",
       "0              1.0  \n",
       "1              1.0  \n",
       "2              1.0  \n",
       "3              1.0  \n",
       "4              1.0  "
      ]
     },
     "execution_count": 37,
     "metadata": {},
     "output_type": "execute_result"
    }
   ],
   "source": [
    "des_csv.head()"
   ]
  },
  {
   "cell_type": "markdown",
   "id": "3d407136",
   "metadata": {},
   "source": [
    "### <span style=\"color:orange\">Task 2\n",
    "\n",
    "Assume you are a DA in a company and you are about to prepare a report to the LA governate about there jobs, by answering some questions and give insight about the data provided.\n",
    "\n",
    "### Note: This section will be a QA cells."
   ]
  },
  {
   "cell_type": "markdown",
   "id": "006c425d",
   "metadata": {},
   "source": [
    "### <span style=\"color:brown\">Q1:\n",
    "\n",
    "Review the number of applicants for each position"
   ]
  },
  {
   "cell_type": "code",
   "execution_count": 38,
   "id": "972fbfa6",
   "metadata": {},
   "outputs": [
    {
     "data": {
      "image/png": "[encoded data removed]",
      "text/plain": [
       "<Figure size 1200x600 with 1 Axes>"
      ]
     },
     "metadata": {},
     "output_type": "display_data"
    }
   ],
   "source": [
    "position_counts = des_csv.POSITION_TITLE.value_counts()\n",
    "\n",
    "top_20_positions = position_counts.head(20)\n",
    "\n",
    "plt.figure(figsize=(12, 6))\n",
    "top_20_positions.plot(kind='bar')\n",
    "plt.title('Number of Applicants for Top 20 Positions')\n",
    "plt.xlabel('Position')\n",
    "plt.ylabel('Number of Applicants')\n",
    "plt.xticks(rotation=90,ha='right')\n",
    "plt.show()"
   ]
  },
  {
   "cell_type": "markdown",
   "id": "70d3ae75",
   "metadata": {},
   "source": [
    "### <span style=\"color:brown\">Q2:\n",
    "\n",
    "A concerned parents contacts you to tell them if there is a specific school type that would guaranteed for their child a good future if you can tell, and which is it ?"
   ]
  },
  {
   "cell_type": "markdown",
   "id": "92be2163",
   "metadata": {},
   "source": [
    "the approach i will follow that i will compear each school type with mean of experience len and mena of skills count "
   ]
  },
  {
   "cell_type": "code",
   "execution_count": 39,
   "id": "8893f2bb",
   "metadata": {},
   "outputs": [
    {
     "data": {
      "image/png": "[encoded data removed]",
      "text/plain": [
       "<Figure size 800x600 with 1 Axes>"
      ]
     },
     "metadata": {},
     "output_type": "display_data"
    },
    {
     "data": {
      "image/png": "[encoded data removed]",
      "text/plain": [
       "<Figure size 800x600 with 1 Axes>"
      ]
     },
     "metadata": {},
     "output_type": "display_data"
    }
   ],
   "source": [
    "data = des_csv[['SCHOOL_TYPE', 'EXPERINCE_LENGHT', 'SKILLS_COUNT']]\n",
    "\n",
    "# Group data by school type\n",
    "grouped_data = data.groupby('SCHOOL_TYPE').mean()\n",
    "\n",
    "\n",
    "plt.figure(figsize=(8, 6))\n",
    "grouped_data['EXPERINCE_LENGHT'].plot(kind='bar')\n",
    "plt.title('Average Experience Length by School Type')\n",
    "plt.xlabel('School Type')\n",
    "plt.ylabel('Average Experience Length')\n",
    "plt.xticks(rotation=45)\n",
    "plt.show()\n",
    "\n",
    "\n",
    "plt.figure(figsize=(8, 6))\n",
    "grouped_data['SKILLS_COUNT'].plot(kind='bar')\n",
    "plt.title('Average Skills Count by School Type')\n",
    "plt.xlabel('School Type')\n",
    "plt.ylabel('Average Skills Count')\n",
    "plt.xticks(rotation=45)\n",
    "plt.show()\n"
   ]
  },
  {
   "cell_type": "markdown",
   "id": "7a6aea7b",
   "metadata": {},
   "source": [
    "so i will tell them, if they want their son has more skills then let him go to institute, but if they need a job with salary(which need expericnce with skills) then go to university "
   ]
  },
  {
   "cell_type": "markdown",
   "id": "99a3b663",
   "metadata": {},
   "source": [
    "### <span style=\"color:brown\">Q3:\n",
    "\n",
    "what is the most common skills among all applications?"
   ]
  },
  {
   "cell_type": "markdown",
   "id": "f34e07cc",
   "metadata": {},
   "source": [
    "I had created 'famous'list which contain the most common language so i'll resue it "
   ]
  },
  {
   "cell_type": "code",
   "execution_count": 40,
   "id": "bbc5e540",
   "metadata": {},
   "outputs": [
    {
     "data": {
      "image/png": "[encoded data removed]",
      "text/plain": [
       "<Figure size 1200x600 with 1 Axes>"
      ]
     },
     "metadata": {},
     "output_type": "display_data"
    }
   ],
   "source": [
    "\n",
    "common_skills = famous.head(30)\n",
    "\n",
    "plt.figure(figsize=(12, 6))\n",
    "common_skills.plot(kind='bar')\n",
    "plt.title('appearnce of this skill')\n",
    "plt.xlabel('skill')\n",
    "plt.ylabel('Number of appearance')\n",
    "plt.xticks(rotation=90,ha='right')\n",
    "plt.show()"
   ]
  },
  {
   "cell_type": "markdown",
   "id": "1c280fe5",
   "metadata": {},
   "source": [
    "# <span style=\"color:brown\">Q4:\n",
    "\n",
    "Based on the data that you have, could you tell the most active and community helpful applicants are for what position?"
   ]
  },
  {
   "cell_type": "markdown",
   "id": "ea87030e",
   "metadata": {},
   "source": [
    "here we will group the data by position and find the sum of volunteering and community scervies and then create bar plot with the results "
   ]
  },
  {
   "cell_type": "markdown",
   "id": "c9156f97",
   "metadata": {},
   "source": [
    "### <span style=\"color:brown\">Q5:\n",
    "\n",
    "could you nominate the best job application for each position?"
   ]
  },
  {
   "cell_type": "markdown",
   "id": "0fc700b7",
   "metadata": {},
   "source": [
    "here i think about the craiterica that we consider about to find best job application,mybe we want higer skill_count or more experince "
   ]
  },
  {
   "cell_type": "markdown",
   "id": "80534a47",
   "metadata": {},
   "source": [
    "### <span style=\"color:brown\">Q6:\n",
    "\n",
    "Do you think learning another language could effect the application, support your opinion."
   ]
  },
  {
   "cell_type": "markdown",
   "id": "15e196fd",
   "metadata": {},
   "source": [
    "my opinion is yes it effect , and i can support that by show you how skills increase when we have more than one language"
   ]
  },
  {
   "cell_type": "markdown",
   "id": "db0d17b7",
   "metadata": {},
   "source": [
    "## <span style=\"color:brown\">Q7:\n",
    "\n",
    "Give a full statistical description for all numrical data columns including all insights and needed figures to visualize them."
   ]
  },
  {
   "cell_type": "code",
   "execution_count": 41,
   "id": "bc229484",
   "metadata": {},
   "outputs": [
    {
     "data": {
      "text/html": [
       "<div>\n",
       "<style scoped>\n",
       "    .dataframe tbody tr th:only-of-type {\n",
       "        vertical-align: middle;\n",
       "    }\n",
       "\n",
       "    .dataframe tbody tr th {\n",
       "        vertical-align: top;\n",
       "    }\n",
       "\n",
       "    .dataframe thead th {\n",
       "        text-align: right;\n",
       "    }\n",
       "</style>\n",
       "<table border=\"1\" class=\"dataframe\">\n",
       "  <thead>\n",
       "    <tr style=\"text-align: right;\">\n",
       "      <th></th>\n",
       "      <th>EXPERINCE_LENGHT</th>\n",
       "      <th>SKILLS_COUNT</th>\n",
       "      <th>LANGUAGES_COUNT</th>\n",
       "    </tr>\n",
       "  </thead>\n",
       "  <tbody>\n",
       "    <tr>\n",
       "      <th>count</th>\n",
       "      <td>2352.000000</td>\n",
       "      <td>2458.000000</td>\n",
       "      <td>2458.000000</td>\n",
       "    </tr>\n",
       "    <tr>\n",
       "      <th>mean</th>\n",
       "      <td>15.852466</td>\n",
       "      <td>3.617575</td>\n",
       "      <td>1.287632</td>\n",
       "    </tr>\n",
       "    <tr>\n",
       "      <th>std</th>\n",
       "      <td>10.924430</td>\n",
       "      <td>4.084602</td>\n",
       "      <td>0.639764</td>\n",
       "    </tr>\n",
       "    <tr>\n",
       "      <th>min</th>\n",
       "      <td>1.000000</td>\n",
       "      <td>0.000000</td>\n",
       "      <td>1.000000</td>\n",
       "    </tr>\n",
       "    <tr>\n",
       "      <th>25%</th>\n",
       "      <td>8.000000</td>\n",
       "      <td>1.000000</td>\n",
       "      <td>1.000000</td>\n",
       "    </tr>\n",
       "    <tr>\n",
       "      <th>50%</th>\n",
       "      <td>14.000000</td>\n",
       "      <td>2.000000</td>\n",
       "      <td>1.000000</td>\n",
       "    </tr>\n",
       "    <tr>\n",
       "      <th>75%</th>\n",
       "      <td>22.000000</td>\n",
       "      <td>5.000000</td>\n",
       "      <td>1.000000</td>\n",
       "    </tr>\n",
       "    <tr>\n",
       "      <th>max</th>\n",
       "      <td>100.000000</td>\n",
       "      <td>50.000000</td>\n",
       "      <td>7.000000</td>\n",
       "    </tr>\n",
       "  </tbody>\n",
       "</table>\n",
       "</div>"
      ],
      "text/plain": [
       "       EXPERINCE_LENGHT  SKILLS_COUNT  LANGUAGES_COUNT\n",
       "count       2352.000000   2458.000000      2458.000000\n",
       "mean          15.852466      3.617575         1.287632\n",
       "std           10.924430      4.084602         0.639764\n",
       "min            1.000000      0.000000         1.000000\n",
       "25%            8.000000      1.000000         1.000000\n",
       "50%           14.000000      2.000000         1.000000\n",
       "75%           22.000000      5.000000         1.000000\n",
       "max          100.000000     50.000000         7.000000"
      ]
     },
     "execution_count": 41,
     "metadata": {},
     "output_type": "execute_result"
    }
   ],
   "source": [
    "des_csv.describe()"
   ]
  },
  {
   "cell_type": "code",
   "execution_count": null,
   "id": "8f1b1fe0",
   "metadata": {},
   "outputs": [],
   "source": []
  }
 ],
 "metadata": {
  "kernelspec": {
   "display_name": "Python 3 (ipykernel)",
   "language": "python",
   "name": "python3"
  },
  "language_info": {
   "codemirror_mode": {
    "name": "ipython",
    "version": 3
   },
   "file_extension": ".py",
   "mimetype": "text/x-python",
   "name": "python",
   "nbconvert_exporter": "python",
   "pygments_lexer": "ipython3",
   "version": "3.9.12"
  }
 },
 "nbformat": 4,
 "nbformat_minor": 5
}
